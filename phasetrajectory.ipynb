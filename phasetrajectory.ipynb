{
 "cells": [
  {
   "cell_type": "code",
   "execution_count": 11,
   "metadata": {},
   "outputs": [
    {
     "ename": "NameError",
     "evalue": "name 'Normalize' is not defined",
     "output_type": "error",
     "traceback": [
      "\u001b[0;31m---------------------------------------------------------------------------\u001b[0m",
      "\u001b[0;31mNameError\u001b[0m                                 Traceback (most recent call last)",
      "\u001b[1;32m/home/mbborja/phys-ga2000/phasetrajectory.ipynb Cell 1\u001b[0m line \u001b[0;36m2\n\u001b[1;32m     <a href='vscode-notebook-cell://wsl%2Bubuntu/home/mbborja/phys-ga2000/phasetrajectory.ipynb#W0sdnNjb2RlLXJlbW90ZQ%3D%3D?line=21'>22</a>\u001b[0m x_values[\u001b[39m0\u001b[39m] \u001b[39m=\u001b[39m x0\n\u001b[1;32m     <a href='vscode-notebook-cell://wsl%2Bubuntu/home/mbborja/phys-ga2000/phasetrajectory.ipynb#W0sdnNjb2RlLXJlbW90ZQ%3D%3D?line=22'>23</a>\u001b[0m p_values[\u001b[39m0\u001b[39m] \u001b[39m=\u001b[39m p0\n\u001b[0;32m---> <a href='vscode-notebook-cell://wsl%2Bubuntu/home/mbborja/phys-ga2000/phasetrajectory.ipynb#W0sdnNjb2RlLXJlbW90ZQ%3D%3D?line=24'>25</a>\u001b[0m norm \u001b[39m=\u001b[39m Normalize(vmin\u001b[39m=\u001b[39m\u001b[39m0\u001b[39m, vmax\u001b[39m=\u001b[39m\u001b[39mlen\u001b[39m(time_steps))\n\u001b[1;32m     <a href='vscode-notebook-cell://wsl%2Bubuntu/home/mbborja/phys-ga2000/phasetrajectory.ipynb#W0sdnNjb2RlLXJlbW90ZQ%3D%3D?line=25'>26</a>\u001b[0m cmap \u001b[39m=\u001b[39m plt\u001b[39m.\u001b[39mget_cmap(\u001b[39m'\u001b[39m\u001b[39mviridis\u001b[39m\u001b[39m'\u001b[39m)\n\u001b[1;32m     <a href='vscode-notebook-cell://wsl%2Bubuntu/home/mbborja/phys-ga2000/phasetrajectory.ipynb#W0sdnNjb2RlLXJlbW90ZQ%3D%3D?line=27'>28</a>\u001b[0m \u001b[39m# Perform numerical simulation using the Euler method\u001b[39;00m\n",
      "\u001b[0;31mNameError\u001b[0m: name 'Normalize' is not defined"
     ]
    }
   ],
   "source": [
    "import numpy as np\n",
    "import matplotlib.pyplot as plt\n",
    "\n",
    "# Parameters\n",
    "m = 1.0  # Mass\n",
    "w = 1.0  # Omega\n",
    "\n",
    "# Initial conditions\n",
    "x0 = 100.0  # Initial position\n",
    "p0 = 100.0  # Initial momentum\n",
    "\n",
    "# Time parameters\n",
    "t_max = 20.0  # Maximum simulation time\n",
    "dt = 1    # Time step\n",
    "\n",
    "# Initialize arrays to store position and momentum values\n",
    "num_steps = int(t_max / dt) + 1\n",
    "x_values = np.zeros(num_steps)\n",
    "p_values = np.zeros(num_steps)\n",
    "\n",
    "# Initial conditions\n",
    "x_values[0] = x0\n",
    "p_values[0] = p0\n",
    "\n",
    "norm = Normalize(vmin=0, vmax=len(time_steps))\n",
    "cmap = plt.get_cmap('viridis')\n",
    "\n",
    "# Perform numerical simulation using the Euler method\n",
    "for i in range(1, num_steps):\n",
    "    print(dt*i)\n",
    "    # Update momentum and position using Hamilton's equations\n",
    "    p_values[i] = (m*w*x0*np.sinh(w*(dt*i))) + (p0 * np.cosh(w*(dt*i)))\n",
    "    x_values[i] = (x0*np.cosh(w*(dt*i))) + (p0/(m*w) * np.sinh(w*(dt*i)))\n",
    "# Plot the phase-space trajectory\n",
    "plt.figure(figsize=(8, 6))\n",
    "plt.plot(x_values, p_values, label='Phase-space trajectory')\n",
    "plt.xlabel('Position (x)')\n",
    "plt.ylabel('Momentum (p)')\n",
    "plt.title('Phase-space Trajectory of the Inverted Harmonic Oscillator')\n",
    "plt.legend()\n",
    "plt.grid(True)\n",
    "plt.show()\n",
    "for i in range(num_steps):\n",
    "    plt.scatter(x_values[i], p_values[i], c=[cmap(norm(i))], marker='o', s=10)\n",
    "plt.show()"
   ]
  }
 ],
 "metadata": {
  "kernelspec": {
   "display_name": "base",
   "language": "python",
   "name": "python3"
  },
  "language_info": {
   "codemirror_mode": {
    "name": "ipython",
    "version": 3
   },
   "file_extension": ".py",
   "mimetype": "text/x-python",
   "name": "python",
   "nbconvert_exporter": "python",
   "pygments_lexer": "ipython3",
   "version": "3.11.4"
  },
  "orig_nbformat": 4
 },
 "nbformat": 4,
 "nbformat_minor": 2
}
